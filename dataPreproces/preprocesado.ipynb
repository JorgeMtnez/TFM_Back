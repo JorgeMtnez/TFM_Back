{
 "cells": [
  {
   "cell_type": "markdown",
   "id": "f3b7f19a",
   "metadata": {},
   "source": [
    "# TFM: MAPA DE PELIGROSIDAD"
   ]
  },
  {
   "cell_type": "markdown",
   "id": "af5fdf82",
   "metadata": {},
   "source": [
    "### Nuestro modelo es supervisado ya que tiene una variable objetivo y predecir un valor futuro. \n",
    "Modelo de clasificación: Multiclase, tenemos varias.\n",
    "# PREPROCESADO"
   ]
  },
  {
   "cell_type": "code",
   "execution_count": 1,
   "id": "eb4407c3",
   "metadata": {},
   "outputs": [],
   "source": [
    "import pandas as pd\n",
    "import numpy as np\n",
    "import seaborn as sns\n",
    "import matplotlib.pyplot as plt"
   ]
  },
  {
   "cell_type": "code",
   "execution_count": 2,
   "id": "fd98a806",
   "metadata": {},
   "outputs": [],
   "source": [
    "dataset = pd.read_csv(r\"C:\\Users\\Brigitte\\Documents\\master\\tfm_dataset\\datasets_unificados.csv\")"
   ]
  },
  {
   "cell_type": "code",
   "execution_count": 10,
   "id": "69e7a87f",
   "metadata": {},
   "outputs": [
    {
     "name": "stdout",
     "output_type": "stream",
     "text": [
      "<class 'pandas.core.frame.DataFrame'>\n",
      "RangeIndex: 3912398 entries, 0 to 3912397\n",
      "Data columns (total 55 columns):\n",
      " #   Column                            Dtype         \n",
      "---  ------                            -----         \n",
      " 0   Zip Code                          float64       \n",
      " 1   Total                             float64       \n",
      " 2   Sin Educacion Basica Obligatoria  float64       \n",
      " 3   Educacion Basica Obligatoria      float64       \n",
      " 4   Educacion Media Superior          float64       \n",
      " 5   Educacion Superior                float64       \n",
      " 6   Master o Doctorado                float64       \n",
      " 7   Estimated Median Income           float64       \n",
      " 8   Salario_bajo                      float64       \n",
      " 9   Salario_medio                     float64       \n",
      " 10  Salario_alto                      float64       \n",
      " 11  Nivel Pobreza                     float64       \n",
      " 12  AREA NAME                         object        \n",
      " 13  Tasa Desempleo 2021               float64       \n",
      " 14  Temp Min                          float64       \n",
      " 15  Temp Max                          float64       \n",
      " 16  Lluvia Ene                        object        \n",
      " 17  Lluvia Feb                        object        \n",
      " 18  Lluvia Mar                        object        \n",
      " 19  Lluvia Abr                        object        \n",
      " 20  Lluvia May                        object        \n",
      " 21  Lluvia Jun                        object        \n",
      " 22  Lluvia Jul                        object        \n",
      " 23  Lluvia Ago                        object        \n",
      " 24  Lluvia Sep                        object        \n",
      " 25  Lluvia Oct                        object        \n",
      " 26  Lluvia Nov                        object        \n",
      " 27  Lluvia Dec                        object        \n",
      " 28  DR_NO                             float64       \n",
      " 29  Date Rptd                         object        \n",
      " 30  DATE OCC                          datetime64[ns]\n",
      " 31  TIME OCC                          object        \n",
      " 32  AREA                              float64       \n",
      " 33  Rpt Dist No                       float64       \n",
      " 34  Part 1-2                          float64       \n",
      " 35  Crm Cd                            float64       \n",
      " 36  Crm Cd Desc                       object        \n",
      " 37  Mocodes                           object        \n",
      " 38  Vict Age                          float64       \n",
      " 39  Vict Sex                          object        \n",
      " 40  Vict Descent                      object        \n",
      " 41  Premis Cd                         float64       \n",
      " 42  Premis Desc                       object        \n",
      " 43  Weapon Used Cd                    float64       \n",
      " 44  Weapon Desc                       object        \n",
      " 45  Status                            object        \n",
      " 46  Status Desc                       object        \n",
      " 47  Crm Cd 1                          float64       \n",
      " 48  Crm Cd 2                          float64       \n",
      " 49  Crm Cd 3                          float64       \n",
      " 50  Crm Cd 4                          float64       \n",
      " 51  LOCATION                          object        \n",
      " 52  Cross Street                      object        \n",
      " 53  LAT                               float64       \n",
      " 54  LON                               float64       \n",
      "dtypes: datetime64[ns](1), float64(29), object(25)\n",
      "memory usage: 1.6+ GB\n",
      "None\n",
      "   Zip Code    Total  Sin Educacion Basica Obligatoria  \\\n",
      "0   90001.0  34392.0                          0.141952   \n",
      "1   90001.0  34392.0                          0.141952   \n",
      "2   90001.0  34392.0                          0.141952   \n",
      "3   90001.0  34392.0                          0.141952   \n",
      "4   90001.0  34392.0                          0.141952   \n",
      "\n",
      "   Educacion Basica Obligatoria  Educacion Media Superior  Educacion Superior  \\\n",
      "0                      0.356071                  0.389189            0.101913   \n",
      "1                      0.356071                  0.389189            0.101913   \n",
      "2                      0.356071                  0.389189            0.101913   \n",
      "3                      0.356071                  0.389189            0.101913   \n",
      "4                      0.356071                  0.389189            0.101913   \n",
      "\n",
      "   Master o Doctorado  Estimated Median Income  Salario_bajo  Salario_medio  \\\n",
      "0            0.010875                  52806.0           0.0            1.0   \n",
      "1            0.010875                  52806.0           0.0            1.0   \n",
      "2            0.010875                  52806.0           0.0            1.0   \n",
      "3            0.010875                  52806.0           0.0            1.0   \n",
      "4            0.010875                  52806.0           0.0            1.0   \n",
      "\n",
      "   Salario_alto  Nivel Pobreza AREA NAME  Tasa Desempleo 2021  Temp Min  \\\n",
      "0           0.0           22.0   Central             0.068531      57.5   \n",
      "1           0.0           22.0   Central             0.068531      57.5   \n",
      "2           0.0           22.0   Central             0.068531      57.5   \n",
      "3           0.0           22.0   Central             0.068531      57.5   \n",
      "4           0.0           22.0   Central             0.068531      57.5   \n",
      "\n",
      "   Temp Max Lluvia Ene Lluvia Feb Lluvia Mar Lluvia Abr Lluvia May Lluvia Jun  \\\n",
      "0      74.0     Ligera     Ligera     Ligera     Ligera     Ligera     Fuerte   \n",
      "1      74.0     Ligera     Ligera     Ligera     Ligera     Ligera     Fuerte   \n",
      "2      74.0     Ligera     Ligera     Ligera     Ligera     Ligera     Fuerte   \n",
      "3      74.0     Ligera     Ligera     Ligera     Ligera     Ligera     Fuerte   \n",
      "4      74.0     Ligera     Ligera     Ligera     Ligera     Ligera     Fuerte   \n",
      "\n",
      "  Lluvia Jul Lluvia Ago Lluvia Sep Lluvia Oct Lluvia Nov Lluvia Dec  \\\n",
      "0     Fuerte     Ligera     Ligera     Ligera     Ligera     Ligera   \n",
      "1     Fuerte     Ligera     Ligera     Ligera     Ligera     Ligera   \n",
      "2     Fuerte     Ligera     Ligera     Ligera     Ligera     Ligera   \n",
      "3     Fuerte     Ligera     Ligera     Ligera     Ligera     Ligera   \n",
      "4     Fuerte     Ligera     Ligera     Ligera     Ligera     Ligera   \n",
      "\n",
      "         DR_NO               Date Rptd   DATE OCC  TIME OCC  AREA  \\\n",
      "0  190101086.0  01/02/2020 12:00:00 AM 2020-01-01  00:00:00   1.0   \n",
      "1  200110444.0  04/14/2020 12:00:00 AM 2020-02-13  00:00:00   1.0   \n",
      "2  200100501.0  01/02/2020 12:00:00 AM 2020-01-01  00:00:00   1.0   \n",
      "3  200100502.0  01/02/2020 12:00:00 AM 2020-01-02  00:00:00   1.0   \n",
      "4  200100504.0  01/04/2020 12:00:00 AM 2020-01-04  00:00:00   1.0   \n",
      "\n",
      "   Rpt Dist No  Part 1-2  Crm Cd                                Crm Cd Desc  \\\n",
      "0        163.0       2.0   624.0                   BATTERY - SIMPLE ASSAULT   \n",
      "1        155.0       2.0   845.0  SEX OFFENDER REGISTRANT OUT OF COMPLIANCE   \n",
      "2        163.0       1.0   121.0                             RAPE, FORCIBLE   \n",
      "3        161.0       1.0   442.0   SHOPLIFTING - PETTY THEFT ($950 & UNDER)   \n",
      "4        155.0       2.0   946.0                  OTHER MISCELLANEOUS CRIME   \n",
      "\n",
      "               Mocodes  Vict Age Vict Sex Vict Descent  Premis Cd  \\\n",
      "0       0416 1822 1414      25.0        M            H      102.0   \n",
      "1                 1501       0.0        X            X      726.0   \n",
      "2  0413 1822 1262 1415      25.0        F            H      735.0   \n",
      "3  1402 2004 0344 0387      23.0        M            H      404.0   \n",
      "4            1402 0392       0.0        X            X      726.0   \n",
      "\n",
      "                       Premis Desc  Weapon Used Cd  \\\n",
      "0                         SIDEWALK           500.0   \n",
      "1                  POLICE FACILITY             NaN   \n",
      "2  NIGHT CLUB (OPEN EVENINGS ONLY)           500.0   \n",
      "3                 DEPARTMENT STORE             NaN   \n",
      "4                  POLICE FACILITY             NaN   \n",
      "\n",
      "                   Weapon Desc Status   Status Desc  Crm Cd 1  Crm Cd 2  \\\n",
      "0  UNKNOWN WEAPON/OTHER WEAPON     IC   Invest Cont     624.0       NaN   \n",
      "1                          NaN     AA  Adult Arrest     845.0       NaN   \n",
      "2  UNKNOWN WEAPON/OTHER WEAPON     IC   Invest Cont     121.0     998.0   \n",
      "3                          NaN     IC   Invest Cont     442.0     998.0   \n",
      "4                          NaN     IC   Invest Cont     946.0     998.0   \n",
      "\n",
      "   Crm Cd 3  Crm Cd 4                                LOCATION Cross Street  \\\n",
      "0       NaN       NaN  700 S  HILL                         ST          NaN   \n",
      "1       NaN       NaN  200 E  6TH                          ST          NaN   \n",
      "2       NaN       NaN                         700 S  BROADWAY          NaN   \n",
      "3       NaN       NaN  700 S  FIGUEROA                     ST          NaN   \n",
      "4       NaN       NaN  200 E  6TH                          ST          NaN   \n",
      "\n",
      "       LAT       LON  \n",
      "0  34.0459 -118.2545  \n",
      "1  34.0448 -118.2474  \n",
      "2  34.0452 -118.2534  \n",
      "3  34.0483 -118.2631  \n",
      "4  34.0448 -118.2474  \n"
     ]
    }
   ],
   "source": [
    "pd.set_option('display.max_columns', None)\n",
    "#Tipos de variables\n",
    "print(dataset.info())\n",
    "print(dataset.head())"
   ]
  },
  {
   "cell_type": "markdown",
   "id": "90ee0b57",
   "metadata": {},
   "source": [
    "# Una vez hemos analizado las variables vemos que:\n",
    " **DR_NO** son códigos los cuales no nos aportan nueva información, ***se podría eliminar. \n",
    " **Date Rptd** time when the crime reported df[time_field], esto no nos interesa así que *****podemos eliminarla\n",
    " **DATE OCC** time when the crime occurred time_field +++Tenmos que modificar el tipo de variable a data.\n",
    " **Rpt Dist No No sabemos muy bien que es, tenemos que seguir investigando. **\n",
    " Part 1-2 Podria tratarse de mañana o tarde, lo comprobaremos. Si no es así la eliminaremos.**** \n",
    " **Crm Cd** En esta variable están los códigos de los delitos. **Crm Cd Desc**  esta su descrippción.\n",
    " **Mocodes**, es un código que nos da datos sobre el sospechoso. No, nos interesaría para nuestro caso de estudio. \n",
    " **Vict Age** vamos hacer un rango de edad con esta variable y así personalizar más la aplicación al usuario. \n",
    " **Vict Sex** Hay cinco variables, tenemos que estudiarlas para ver de que elementos se compone. \n",
    "** Vict Descent** Tendriamos que ordenarlo de una mejor forma o analizarlo.\n",
    " **Premis Cd, Premis Desc** nos dice dónde habia ocurrido el delito, consultar si nos interesa dejarlo o no. ****Eliminarlo\n",
    " **Weapon Used Cd y Weapon Desc** Es la arma usada. consultar si nos interesa dejarlo o no. *******\n",
    " **Status y Status Desc** Estado del caso. Dejamos solo la descripción. *******Eliminarlo\n",
    " **Crm Cd 1,2,3,4 investigar**\n",
    " **LOCATION y Cross Street.** Dirección aprox. del delito. ******Eliminarlo\n",
    " **LAT y LON.** Long y altitud. Si es muy importante. "
   ]
  },
  {
   "cell_type": "code",
   "execution_count": 6,
   "id": "ec1688df",
   "metadata": {},
   "outputs": [
    {
     "name": "stdout",
     "output_type": "stream",
     "text": [
      "Zip Code                                92\n",
      "Total                                   63\n",
      "Sin Educacion Basica Obligatoria        61\n",
      "Educacion Basica Obligatoria            62\n",
      "Educacion Media Superior                62\n",
      "Educacion Superior                      62\n",
      "Master o Doctorado                      62\n",
      "Estimated Median Income                 62\n",
      "Salario_bajo                             2\n",
      "Salario_medio                            2\n",
      "Salario_alto                             2\n",
      "Nivel Pobreza                           30\n",
      "AREA NAME                               13\n",
      "Tasa Desempleo 2021                     59\n",
      "Temp Min                                 6\n",
      "Temp Max                                12\n",
      "Lluvia Ene                               2\n",
      "Lluvia Feb                               2\n",
      "Lluvia Mar                               2\n",
      "Lluvia Abr                               2\n",
      "Lluvia May                               2\n",
      "Lluvia Jun                               3\n",
      "Lluvia Jul                               1\n",
      "Lluvia Ago                               3\n",
      "Lluvia Sep                               2\n",
      "Lluvia Oct                               2\n",
      "Lluvia Nov                               2\n",
      "Lluvia Dec                               2\n",
      "DR_NO                               516467\n",
      "Date Rptd                             1308\n",
      "DATE OCC                              1308\n",
      "TIME OCC                              1439\n",
      "AREA                                    13\n",
      "Rpt Dist No                            712\n",
      "Part 1-2                                 2\n",
      "Crm Cd                                 137\n",
      "Crm Cd Desc                            137\n",
      "Mocodes                             190272\n",
      "Vict Age                               103\n",
      "Vict Sex                                 5\n",
      "Vict Descent                            20\n",
      "Premis Cd                              290\n",
      "Premis Desc                            284\n",
      "Weapon Used Cd                          78\n",
      "Weapon Desc                             78\n",
      "Status                                   6\n",
      "Status Desc                              6\n",
      "Crm Cd 1                               138\n",
      "Crm Cd 2                               111\n",
      "Crm Cd 3                                32\n",
      "Crm Cd 4                                 6\n",
      "LOCATION                             35341\n",
      "Cross Street                          6618\n",
      "LAT                                   2499\n",
      "LON                                   3745\n",
      "dtype: int64\n"
     ]
    }
   ],
   "source": [
    "#Valores únicos\n",
    "print(dataset.nunique())"
   ]
  },
  {
   "cell_type": "markdown",
   "id": "132f24e7",
   "metadata": {},
   "source": [
    "#### Modificamos las variables que tendrian que estar en fecha a fecha y hora. "
   ]
  },
  {
   "cell_type": "code",
   "execution_count": 7,
   "id": "80be1b98",
   "metadata": {},
   "outputs": [
    {
     "name": "stdout",
     "output_type": "stream",
     "text": [
      "<class 'pandas.core.frame.DataFrame'>\n",
      "RangeIndex: 3912398 entries, 0 to 3912397\n",
      "Data columns (total 55 columns):\n",
      " #   Column                            Dtype         \n",
      "---  ------                            -----         \n",
      " 0   Zip Code                          float64       \n",
      " 1   Total                             float64       \n",
      " 2   Sin Educacion Basica Obligatoria  float64       \n",
      " 3   Educacion Basica Obligatoria      float64       \n",
      " 4   Educacion Media Superior          float64       \n",
      " 5   Educacion Superior                float64       \n",
      " 6   Master o Doctorado                float64       \n",
      " 7   Estimated Median Income           float64       \n",
      " 8   Salario_bajo                      float64       \n",
      " 9   Salario_medio                     float64       \n",
      " 10  Salario_alto                      float64       \n",
      " 11  Nivel Pobreza                     float64       \n",
      " 12  AREA NAME                         object        \n",
      " 13  Tasa Desempleo 2021               float64       \n",
      " 14  Temp Min                          float64       \n",
      " 15  Temp Max                          float64       \n",
      " 16  Lluvia Ene                        object        \n",
      " 17  Lluvia Feb                        object        \n",
      " 18  Lluvia Mar                        object        \n",
      " 19  Lluvia Abr                        object        \n",
      " 20  Lluvia May                        object        \n",
      " 21  Lluvia Jun                        object        \n",
      " 22  Lluvia Jul                        object        \n",
      " 23  Lluvia Ago                        object        \n",
      " 24  Lluvia Sep                        object        \n",
      " 25  Lluvia Oct                        object        \n",
      " 26  Lluvia Nov                        object        \n",
      " 27  Lluvia Dec                        object        \n",
      " 28  DR_NO                             float64       \n",
      " 29  Date Rptd                         object        \n",
      " 30  DATE OCC                          datetime64[ns]\n",
      " 31  TIME OCC                          float64       \n",
      " 32  AREA                              float64       \n",
      " 33  Rpt Dist No                       float64       \n",
      " 34  Part 1-2                          float64       \n",
      " 35  Crm Cd                            float64       \n",
      " 36  Crm Cd Desc                       object        \n",
      " 37  Mocodes                           object        \n",
      " 38  Vict Age                          float64       \n",
      " 39  Vict Sex                          object        \n",
      " 40  Vict Descent                      object        \n",
      " 41  Premis Cd                         float64       \n",
      " 42  Premis Desc                       object        \n",
      " 43  Weapon Used Cd                    float64       \n",
      " 44  Weapon Desc                       object        \n",
      " 45  Status                            object        \n",
      " 46  Status Desc                       object        \n",
      " 47  Crm Cd 1                          float64       \n",
      " 48  Crm Cd 2                          float64       \n",
      " 49  Crm Cd 3                          float64       \n",
      " 50  Crm Cd 4                          float64       \n",
      " 51  LOCATION                          object        \n",
      " 52  Cross Street                      object        \n",
      " 53  LAT                               float64       \n",
      " 54  LON                               float64       \n",
      "dtypes: datetime64[ns](1), float64(30), object(24)\n",
      "memory usage: 1.6+ GB\n"
     ]
    }
   ],
   "source": [
    "#Fecha como datetime\n",
    "dataset['DATE OCC'] = pd.to_datetime(dataset['DATE OCC'])\n",
    "dataset.info()"
   ]
  },
  {
   "cell_type": "code",
   "execution_count": 8,
   "id": "825a688d",
   "metadata": {},
   "outputs": [
    {
     "name": "stdout",
     "output_type": "stream",
     "text": [
      "<class 'pandas.core.frame.DataFrame'>\n",
      "RangeIndex: 3912398 entries, 0 to 3912397\n",
      "Data columns (total 55 columns):\n",
      " #   Column                            Dtype         \n",
      "---  ------                            -----         \n",
      " 0   Zip Code                          float64       \n",
      " 1   Total                             float64       \n",
      " 2   Sin Educacion Basica Obligatoria  float64       \n",
      " 3   Educacion Basica Obligatoria      float64       \n",
      " 4   Educacion Media Superior          float64       \n",
      " 5   Educacion Superior                float64       \n",
      " 6   Master o Doctorado                float64       \n",
      " 7   Estimated Median Income           float64       \n",
      " 8   Salario_bajo                      float64       \n",
      " 9   Salario_medio                     float64       \n",
      " 10  Salario_alto                      float64       \n",
      " 11  Nivel Pobreza                     float64       \n",
      " 12  AREA NAME                         object        \n",
      " 13  Tasa Desempleo 2021               float64       \n",
      " 14  Temp Min                          float64       \n",
      " 15  Temp Max                          float64       \n",
      " 16  Lluvia Ene                        object        \n",
      " 17  Lluvia Feb                        object        \n",
      " 18  Lluvia Mar                        object        \n",
      " 19  Lluvia Abr                        object        \n",
      " 20  Lluvia May                        object        \n",
      " 21  Lluvia Jun                        object        \n",
      " 22  Lluvia Jul                        object        \n",
      " 23  Lluvia Ago                        object        \n",
      " 24  Lluvia Sep                        object        \n",
      " 25  Lluvia Oct                        object        \n",
      " 26  Lluvia Nov                        object        \n",
      " 27  Lluvia Dec                        object        \n",
      " 28  DR_NO                             float64       \n",
      " 29  Date Rptd                         object        \n",
      " 30  DATE OCC                          datetime64[ns]\n",
      " 31  TIME OCC                          object        \n",
      " 32  AREA                              float64       \n",
      " 33  Rpt Dist No                       float64       \n",
      " 34  Part 1-2                          float64       \n",
      " 35  Crm Cd                            float64       \n",
      " 36  Crm Cd Desc                       object        \n",
      " 37  Mocodes                           object        \n",
      " 38  Vict Age                          float64       \n",
      " 39  Vict Sex                          object        \n",
      " 40  Vict Descent                      object        \n",
      " 41  Premis Cd                         float64       \n",
      " 42  Premis Desc                       object        \n",
      " 43  Weapon Used Cd                    float64       \n",
      " 44  Weapon Desc                       object        \n",
      " 45  Status                            object        \n",
      " 46  Status Desc                       object        \n",
      " 47  Crm Cd 1                          float64       \n",
      " 48  Crm Cd 2                          float64       \n",
      " 49  Crm Cd 3                          float64       \n",
      " 50  Crm Cd 4                          float64       \n",
      " 51  LOCATION                          object        \n",
      " 52  Cross Street                      object        \n",
      " 53  LAT                               float64       \n",
      " 54  LON                               float64       \n",
      "dtypes: datetime64[ns](1), float64(29), object(25)\n",
      "memory usage: 1.6+ GB\n"
     ]
    }
   ],
   "source": [
    "#Hora como bject no se porque...?\n",
    "from datetime import datetime, timedelta\n",
    "dataset['TIME OCC'] = dataset['TIME OCC'].apply(lambda x: (datetime.min ).time())\n",
    "dataset.info()"
   ]
  },
  {
   "cell_type": "markdown",
   "id": "9938d958",
   "metadata": {},
   "source": [
    "#### Para tener un mejor conocimiento del dataset podemos analizar los descriptivos "
   ]
  },
  {
   "cell_type": "code",
   "execution_count": null,
   "id": "f9130437",
   "metadata": {},
   "outputs": [],
   "source": [
    "dataset.describe()"
   ]
  },
  {
   "cell_type": "markdown",
   "id": "08d25655",
   "metadata": {},
   "source": [
    "De esta aproximación podemos concluir las siguientes observaciones:\n",
    "- edad de 120 max"
   ]
  },
  {
   "cell_type": "markdown",
   "id": "fcbe5683",
   "metadata": {},
   "source": [
    "## Examinamos las posibles variables categóricas (con menos de 10 valores únicos)"
   ]
  },
  {
   "cell_type": "markdown",
   "id": "fbc3d021",
   "metadata": {},
   "source": [
    "Estas variables son:\n",
    "- Vict Sex\n",
    "- Part 1-2\n",
    "- Status\n",
    "- Status Desc\n",
    "- Crdm cd 4"
   ]
  },
  {
   "cell_type": "markdown",
   "id": "af9ef6bd",
   "metadata": {},
   "source": [
    "Empezamos estudaindo la variable Vict Sex"
   ]
  },
  {
   "cell_type": "code",
   "execution_count": null,
   "id": "e5fd6cb8",
   "metadata": {},
   "outputs": [],
   "source": [
    "for valor in dataset['Vict Sex'].unique():\n",
    "    print(valor)"
   ]
  },
  {
   "cell_type": "markdown",
   "id": "11bdeae2",
   "metadata": {},
   "source": [
    "En una primera aproximación de los datos podemos observar que tenemos 3 variables a examinar:\n",
    "- La variable Crdm cd, la cual indica del 1 al 4 el nivel de peligrosidad de los datos, la cual podriamos fusionar, de alguna manera.\n",
    "- La variable vict sex tiene 5 valores distintos por lo que deberemos examinar cuales son y por que, ya que solo debería tener dos, hombre y mujer."
   ]
  },
  {
   "cell_type": "code",
   "execution_count": null,
   "id": "4381fa50",
   "metadata": {
    "scrolled": true
   },
   "outputs": [],
   "source": [
    "contador = dataset['Vict Sex'].value_counts()['H']\n",
    "contador"
   ]
  },
  {
   "cell_type": "code",
   "execution_count": null,
   "id": "39ae05b6",
   "metadata": {},
   "outputs": [],
   "source": [
    "dataset.shape"
   ]
  },
  {
   "cell_type": "code",
   "execution_count": null,
   "id": "38d8c072",
   "metadata": {},
   "outputs": [],
   "source": [
    "contador = dataset['Vict Sex'].value_counts()\n",
    "contador"
   ]
  },
  {
   "cell_type": "code",
   "execution_count": null,
   "id": "a01a8783",
   "metadata": {},
   "outputs": [],
   "source": [
    "contador = dataset['Vict Sex'].isnull().sum()\n",
    "contador"
   ]
  },
  {
   "cell_type": "code",
   "execution_count": null,
   "id": "1a3c5707",
   "metadata": {},
   "outputs": [],
   "source": [
    "# Número de valores distintos por variable\n",
    "dataset1 = dataset[dataset['Vict Sex'] != 'H']\n",
    "dataset1.info()"
   ]
  },
  {
   "cell_type": "code",
   "execution_count": null,
   "id": "329fb4bc",
   "metadata": {},
   "outputs": [],
   "source": [
    "for valor in dataset1['Vict Sex'].unique():\n",
    "    print(valor)"
   ]
  },
  {
   "cell_type": "code",
   "execution_count": null,
   "id": "d161598d",
   "metadata": {},
   "outputs": [],
   "source": [
    "dataset2 = dataset1[dataset1['Vict Sex'] != '-']\n",
    "dataset2.info()"
   ]
  },
  {
   "cell_type": "code",
   "execution_count": null,
   "id": "252067ae",
   "metadata": {},
   "outputs": [],
   "source": [
    "for valor in dataset2['Vict Sex'].unique():\n",
    "    print(valor)"
   ]
  },
  {
   "cell_type": "code",
   "execution_count": null,
   "id": "dc9320f3",
   "metadata": {},
   "outputs": [],
   "source": [
    "contador = dataset2['Vict Sex'].isnull().sum()\n",
    "contador"
   ]
  },
  {
   "cell_type": "code",
   "execution_count": null,
   "id": "12224e36",
   "metadata": {},
   "outputs": [],
   "source": [
    "contador = dataset2['Vict Sex'].value_counts()\n",
    "contador"
   ]
  },
  {
   "cell_type": "code",
   "execution_count": null,
   "id": "8332a80a",
   "metadata": {},
   "outputs": [],
   "source": [
    "import plotly.express as px\n",
    "# Histograma de calificación del productor\n",
    "fig = px.histogram(dataset2, x=\"Vict Sex\") \n",
    "fig.show()"
   ]
  },
  {
   "cell_type": "markdown",
   "id": "d58df556",
   "metadata": {},
   "source": [
    "Hemos eliminado los valores H y - ya que su represenatción era mínima, sin embargo, en el caso de X deberemos determinar si está variable será determinante. Pensamos que puede ser interesante dejar este valor porque actualmente el valor 'otros' es visulizado."
   ]
  },
  {
   "cell_type": "code",
   "execution_count": null,
   "id": "8eb1f45c",
   "metadata": {},
   "outputs": [],
   "source": [
    "sns.violinplot(x='Vict Sex', y='Vict Age', data=dataset2, palette='viridis')"
   ]
  },
  {
   "cell_type": "markdown",
   "id": "a62095f4",
   "metadata": {},
   "source": [
    "2. Estudiamos la variable Status y Status Desc"
   ]
  },
  {
   "cell_type": "markdown",
   "id": "037a77e4",
   "metadata": {},
   "source": [
    "hacer rangos de edad"
   ]
  },
  {
   "cell_type": "code",
   "execution_count": null,
   "id": "b5e5db9a",
   "metadata": {},
   "outputs": [],
   "source": [
    "for valor in dataset2['Status'].unique():\n",
    "    print(valor)"
   ]
  },
  {
   "cell_type": "code",
   "execution_count": null,
   "id": "f0abbea9",
   "metadata": {},
   "outputs": [],
   "source": [
    "for valor in dataset2['Status Desc'].unique():\n",
    "    print(valor)"
   ]
  },
  {
   "cell_type": "code",
   "execution_count": null,
   "id": "86a609c0",
   "metadata": {},
   "outputs": [],
   "source": [
    "contador = dataset2['Status'].value_counts()\n",
    "contador"
   ]
  },
  {
   "cell_type": "code",
   "execution_count": null,
   "id": "04f69a84",
   "metadata": {
    "scrolled": true
   },
   "outputs": [],
   "source": [
    "contador = dataset2['Status Desc'].value_counts()\n",
    "contador"
   ]
  },
  {
   "cell_type": "markdown",
   "id": "8b98fcea",
   "metadata": {},
   "source": [
    "Podemos observar que:\n",
    "- Las dos variables tienen exactamente los mismos valores y el mismo número, por lo tanto, se trata de la misma variable\n",
    "- Los valores Unknown representan un pocentaje insignificante y podrán ser eliminados"
   ]
  },
  {
   "cell_type": "code",
   "execution_count": null,
   "id": "ad08fe3f",
   "metadata": {},
   "outputs": [],
   "source": [
    "dataset2 = dataset1[dataset1['Status Desc'] != 'UNK']\n",
    "dataset2.info()"
   ]
  },
  {
   "cell_type": "code",
   "execution_count": null,
   "id": "437d4808",
   "metadata": {},
   "outputs": [],
   "source": [
    "dataset3 = dataset2.drop(['Status'],axis=1)"
   ]
  },
  {
   "cell_type": "code",
   "execution_count": null,
   "id": "06fabbd1",
   "metadata": {},
   "outputs": [],
   "source": [
    "import plotly.express as px\n",
    "# Histograma de calificación del productor\n",
    "fig = px.histogram(dataset3, x=\"Status Desc\") \n",
    "fig.show()"
   ]
  },
  {
   "cell_type": "markdown",
   "id": "5e6dd43e",
   "metadata": {},
   "source": [
    "3. Part 1-2:"
   ]
  },
  {
   "cell_type": "code",
   "execution_count": null,
   "id": "f7951dde",
   "metadata": {},
   "outputs": [],
   "source": [
    "for valor in dataset2['Part 1-2'].unique():\n",
    "    print(valor)"
   ]
  },
  {
   "cell_type": "code",
   "execution_count": null,
   "id": "7d87fe8c",
   "metadata": {},
   "outputs": [],
   "source": [
    "# Calcula la matriz de correlación\n",
    "correlation_matrix = dataset3.corr()\n",
    "\n",
    "# Crea un mapa de correlación utilizando Seaborn\n",
    "plt.figure(figsize=(10, 8))\n",
    "sns.heatmap(correlation_matrix, annot=True, cmap='coolwarm', center=0)\n",
    "plt.title('Mapa de Correlación')\n",
    "plt.show()"
   ]
  },
  {
   "cell_type": "code",
   "execution_count": null,
   "id": "d3a987df",
   "metadata": {},
   "outputs": [],
   "source": [
    "for valor in dataset2['Crm Cd'].unique():\n",
    "    print(valor)"
   ]
  },
  {
   "cell_type": "markdown",
   "id": "a5dc9321",
   "metadata": {},
   "source": [
    "¿eliminamos crm cd y part 1-2?"
   ]
  },
  {
   "cell_type": "markdown",
   "id": "d1e2d5d7",
   "metadata": {},
   "source": [
    "## Pasar a factor"
   ]
  },
  {
   "cell_type": "code",
   "execution_count": null,
   "id": "269f3af3",
   "metadata": {},
   "outputs": [],
   "source": [
    "# Lista de columnas con menos de 10 valores distintos. Potenciales factores!\n",
    "dataset3['Vict Sex'] = dataset3['Vict Sex'].astype('category')\n",
    "dataset3['Status Desc'] = dataset3['Status Desc'].astype('category')"
   ]
  },
  {
   "cell_type": "code",
   "execution_count": null,
   "id": "c90f66af",
   "metadata": {},
   "outputs": [],
   "source": [
    "dataset3.info()\n",
    "dataset3.describe()"
   ]
  },
  {
   "cell_type": "code",
   "execution_count": null,
   "id": "71bb8ae0",
   "metadata": {},
   "outputs": [],
   "source": [
    "dataset3.describe(exclude=np.number)"
   ]
  },
  {
   "cell_type": "code",
   "execution_count": null,
   "id": "144cc77d",
   "metadata": {},
   "outputs": [],
   "source": [
    "for valor in dataset2['Premis Desc'].unique():\n",
    "    print(valor)"
   ]
  },
  {
   "cell_type": "markdown",
   "id": "f2899cdf",
   "metadata": {},
   "source": [
    "### Creamos los rangos de edad:"
   ]
  },
  {
   "cell_type": "code",
   "execution_count": null,
   "id": "80e0eca8",
   "metadata": {},
   "outputs": [],
   "source": [
    "## AGE (realizamos una variable con 3 rangos de edad y 3 variables con esos mismos rangos)\n",
    "dataset3['Niño'] = dataset3['Vict Age'].apply(lambda x: 1 if x<=12 else 0)\n",
    "dataset3['Joven'] = dataset3['Vict Age'].apply(lambda x: 1 if x>12 and x<=26 else 0)\n",
    "dataset3['Adulto'] = dataset3['Vict Age'].apply(lambda x: 1 if x>26 and x<60 else 0)\n",
    "dataset3['Mayor de 60'] = dataset3['Vict Age'].apply(lambda x: 1 if x>=60 else 0)\n",
    "# dataset3['Mayor de 60'] = dataset3['Vict Age'].apply(lambda x: 0 if x<=35 else (1 if x>35 and x<60 else(2)))\n"
   ]
  },
  {
   "cell_type": "code",
   "execution_count": null,
   "id": "fe80727f",
   "metadata": {},
   "outputs": [],
   "source": [
    "pd.set_option('display.max_columns', None)\n",
    "\n",
    "dataset3.head()"
   ]
  },
  {
   "cell_type": "markdown",
   "id": "4eda4cf0",
   "metadata": {},
   "source": [
    "### Valores atípicos"
   ]
  },
  {
   "cell_type": "code",
   "execution_count": null,
   "id": "bc562c28",
   "metadata": {},
   "outputs": [],
   "source": [
    "dataset3.select_dtypes(include=np.number).apply(lambda x: x.skew())"
   ]
  },
  {
   "cell_type": "code",
   "execution_count": null,
   "id": "66d7ac8c",
   "metadata": {},
   "outputs": [],
   "source": [
    "dataset3[['Crm Cd 4']].nunique()"
   ]
  },
  {
   "cell_type": "code",
   "execution_count": null,
   "id": "08fc2785",
   "metadata": {},
   "outputs": [],
   "source": [
    "dataset['Crm Cd 1'].isnull().sum()"
   ]
  },
  {
   "cell_type": "code",
   "execution_count": null,
   "id": "8d45e1bc",
   "metadata": {},
   "outputs": [],
   "source": [
    "dataset3['Crm Cd'].isnull().sum()"
   ]
  },
  {
   "cell_type": "code",
   "execution_count": null,
   "id": "c8504777",
   "metadata": {},
   "outputs": [],
   "source": [
    "print(dataset3['Crm Cd 1'].value_counts(),\n",
    "dataset3['Crm Cd 2'].value_counts(),\n",
    "dataset3['Crm Cd 3'].value_counts(),\n",
    "dataset3['Crm Cd 4'].value_counts())"
   ]
  },
  {
   "cell_type": "code",
   "execution_count": null,
   "id": "d1d61bc6",
   "metadata": {},
   "outputs": [],
   "source": [
    "dataset_prueba= dataset3[['Crm Cd','Crm Cd Desc']]\n",
    "dataset_prueba"
   ]
  },
  {
   "cell_type": "code",
   "execution_count": null,
   "id": "0ee95791",
   "metadata": {},
   "outputs": [],
   "source": [
    "dataset_ordenado = dataset_prueba.sort_values(by='Crm Cd', ascending=True)"
   ]
  },
  {
   "cell_type": "code",
   "execution_count": null,
   "id": "b9cd0451",
   "metadata": {},
   "outputs": [],
   "source": [
    "dataset_ordenado"
   ]
  },
  {
   "cell_type": "code",
   "execution_count": null,
   "id": "a3b4e9ce",
   "metadata": {},
   "outputs": [],
   "source": [
    "dataset_sin_duplicados = dataset_ordenado.drop_duplicates(subset=['Crm Cd'])\n"
   ]
  },
  {
   "cell_type": "code",
   "execution_count": null,
   "id": "ca3e3a98",
   "metadata": {},
   "outputs": [],
   "source": [
    "dataset_sin_duplicados.shape"
   ]
  },
  {
   "cell_type": "code",
   "execution_count": null,
   "id": "4f90a585",
   "metadata": {},
   "outputs": [],
   "source": [
    "pd.set_option('display.max_rows', None)\n",
    "dataset_sin_duplicados"
   ]
  },
  {
   "cell_type": "code",
   "execution_count": null,
   "id": "73303d68",
   "metadata": {},
   "outputs": [],
   "source": [
    "dataset3['Crm Cd 1'].info()"
   ]
  },
  {
   "cell_type": "code",
   "execution_count": null,
   "id": "941fccb3",
   "metadata": {},
   "outputs": [],
   "source": [
    "dataset3.describe()"
   ]
  },
  {
   "cell_type": "code",
   "execution_count": null,
   "id": "174f1e7b",
   "metadata": {},
   "outputs": [],
   "source": [
    "# Convertir las columnas en conjuntos y encontrar los valores distintos\n",
    "valores_distintos_col1 = set(dataset['Crm Cd'])\n",
    "valores_distintos_col2 = set(dataset['Crm Cd 1'])\n",
    "\n",
    "# Encontrar los valores distintos entre las dos columnas\n",
    "valores_distintos = valores_distintos_col1.symmetric_difference(valores_distintos_col2)\n",
    "\n",
    "print(\"Valores distintos entre las columnas:\", valores_distintos)"
   ]
  },
  {
   "cell_type": "code",
   "execution_count": null,
   "id": "ca4591d5",
   "metadata": {},
   "outputs": [],
   "source": [
    "dataset['Crm Cd 1'].value_counts()[521]"
   ]
  },
  {
   "cell_type": "code",
   "execution_count": null,
   "id": "74110903",
   "metadata": {},
   "outputs": [],
   "source": [
    "dataset['Crm Cd 1'].value_counts()[430]"
   ]
  },
  {
   "cell_type": "code",
   "execution_count": null,
   "id": "92b67a6c",
   "metadata": {},
   "outputs": [],
   "source": [
    "prueba2 = dataset3.drop_duplicates(subset=['Crm Cd'])\n"
   ]
  },
  {
   "cell_type": "code",
   "execution_count": null,
   "id": "95f58051",
   "metadata": {},
   "outputs": [],
   "source": [
    "prueba1= dataset3.drop_duplicates(subset=['Crm Cd 2'])"
   ]
  },
  {
   "cell_type": "code",
   "execution_count": null,
   "id": "8b26ed03",
   "metadata": {},
   "outputs": [],
   "source": [
    "prueba1.shape"
   ]
  },
  {
   "cell_type": "code",
   "execution_count": null,
   "id": "00521d56",
   "metadata": {},
   "outputs": [],
   "source": [
    "# Verificar los valores únicos en 'Crm Cd 2'\n",
    "crm_cd_2_unique = dataset3['Crm Cd 2'].unique()\n",
    "\n",
    "# Verificar los valores únicos en 'Crm Cd'\n",
    "crm_cd_unique = dataset3['Crm Cd'].unique()\n",
    "\n",
    "# Encontrar los valores en 'Crm Cd 2' que no están en 'Crm Cd'\n",
    "valores_no_en_crm_cd = [valor for valor in crm_cd_2_unique if valor not in crm_cd_unique]\n",
    "\n",
    "# Imprimir los valores que no están en 'Crm Cd'\n",
    "print(\"Valores en 'Crm Cd 2' que no están en 'Crm Cd':\")\n",
    "print(valores_no_en_crm_cd)"
   ]
  },
  {
   "cell_type": "code",
   "execution_count": null,
   "id": "1eb02db5",
   "metadata": {},
   "outputs": [],
   "source": [
    "prueba2.shape\n"
   ]
  },
  {
   "cell_type": "code",
   "execution_count": null,
   "id": "26c2c45d",
   "metadata": {},
   "outputs": [],
   "source": [
    "dataset3['Crm Cd 2'].value_counts()[521.0]"
   ]
  },
  {
   "cell_type": "code",
   "execution_count": null,
   "id": "67555d9f",
   "metadata": {},
   "outputs": [],
   "source": [
    "dataset_sin_duplicados"
   ]
  },
  {
   "cell_type": "code",
   "execution_count": null,
   "id": "6bacb4a8",
   "metadata": {},
   "outputs": [],
   "source": [
    "# Convertir las columnas en conjuntos y encontrar los valores distintos\n",
    "valores_distintos_col3 = set(prueba1)\n",
    "valores_distintos_col4 = set(prueba2)\n",
    "\n",
    "\n",
    "# Encontrar los valores distintos entre las dos columnas\n",
    "valores_distintos = valores_distintos_col3.symmetric_difference(valores_distintos_col4)\n",
    "\n",
    "print(\"Valores distintos entre las columnas:\", valores_distintos)"
   ]
  },
  {
   "cell_type": "code",
   "execution_count": null,
   "id": "b8069d27",
   "metadata": {},
   "outputs": [],
   "source": [
    "dataset3.describe()\n"
   ]
  },
  {
   "cell_type": "code",
   "execution_count": null,
   "id": "13a1ab65",
   "metadata": {},
   "outputs": [],
   "source": [
    "dataset3.count()\n",
    "#dataset3['Crm Cd 2'].value_counts()"
   ]
  },
  {
   "cell_type": "code",
   "execution_count": null,
   "id": "42ba4e3a",
   "metadata": {},
   "outputs": [],
   "source": [
    "# FUNCIÓN PARA ASIGNAR EL NIVEL DE GRAVEDAD DE LOS DELITOS. 1 infracción 5 muy muy grave.\n",
    "\n",
    "def asignar_gravedad(valor):\n",
    "    if valor in [110, 121, 235, 900, 907, 921, 860, 822, 910, 920]:\n",
    "        return 5\n",
    "    elif valor in [113, 122, 210, 220, 230, 231,236, 237, 250, 251, 354, 433, 434, 940, 942, 944,\n",
    "                                           954, 956, 470, 473, 870, 845, 840, 820, 815, 814, 626, 627, 648, 805, 762, 761,\n",
    "                                         760, 756, 755]:\n",
    "        return 4\n",
    "    elif valor in [310,330, 331, 341, 343, 345, 347, 349, 410, 420, 421, 901, 902, 435, \n",
    "                                                 903, 436, 904, 931, 943, 446, 350, 450, 946, 948, 949, 950, 951, 475, 622,\n",
    "                                                865, 830, 821, 625, 624, 647, 810, 649, 763, 661, 662, 668, 740]:\n",
    "        return 3\n",
    "    elif valor in [320, 351, 352, 353, 432, 437, 438, 906, 924, 928, 930, 439, 932, 440, 441, 442, \n",
    "                                          443, 444, 445, 451, 452, 471,474, 480, 485, 890, 888, 487, 510, 520, 522, 882, 623,\n",
    "                                          880, 850, 651, 653, 652, 654, 660, 664, 666, 670, 753, 745, 922]:\n",
    "        return 2\n",
    "    elif valor in [933, 886, 884, 813, 812, 806]:\n",
    "        return 1\n",
    "    else:\n",
    "        return 0\n",
    "    \n",
    "dataset3['nivel_gravedad'] = dataset3['Crm Cd'].apply(asignar_gravedad)"
   ]
  },
  {
   "cell_type": "code",
   "execution_count": null,
   "id": "8d617e06",
   "metadata": {},
   "outputs": [],
   "source": [
    "dataset3[\"nivel_gravedad\"].value_counts()"
   ]
  },
  {
   "cell_type": "code",
   "execution_count": null,
   "id": "72265b9f",
   "metadata": {},
   "outputs": [],
   "source": [
    "nivel_gravedad_0 = dataset3[dataset3['nivel_gravedad']==0]\n",
    "valores_Crm_Cd = nivel_gravedad_0['Crm Cd']\n",
    "valores_Crm_Cd.unique()\n",
    "#print(valores_Crm_Cd)"
   ]
  },
  {
   "cell_type": "code",
   "execution_count": null,
   "id": "9725d37b",
   "metadata": {},
   "outputs": [],
   "source": [
    "dataset3.head(10)"
   ]
  },
  {
   "cell_type": "code",
   "execution_count": null,
   "id": "24377208",
   "metadata": {},
   "outputs": [],
   "source": [
    "dataset3[\"nivel_gravedad\"].info()"
   ]
  },
  {
   "cell_type": "code",
   "execution_count": null,
   "id": "6cb56ad7",
   "metadata": {},
   "outputs": [],
   "source": [
    "columnas_a_eliminar = ['Crm Cd 1', 'Crm Cd 2', 'Crm Cd 3', 'Crm Cd 4' ]\n",
    "\n",
    "# Eliminar las columnas especificadas\n",
    "dataset3 = dataset3.drop(columns=columnas_a_eliminar)\n",
    "dataset3.head(10)"
   ]
  },
  {
   "cell_type": "code",
   "execution_count": null,
   "id": "41b14158",
   "metadata": {},
   "outputs": [],
   "source": [
    "# Calcular el coeficiente de correlación\n",
    "correlacion = dataset3['Part 1-2'].corr(dataset3['nivel_gravedad'])\n",
    "\n",
    "print(f\"Coeficiente de correlación: {correlacion}\")"
   ]
  },
  {
   "cell_type": "code",
   "execution_count": null,
   "id": "472ece95",
   "metadata": {},
   "outputs": [],
   "source": [
    "# La correlación que nos da entre parte 1 o 2 y los diferentes niveles de gravedad es muy baja o incluso negativa. \n",
    "correlacion = (dataset3['Part 1-2']==1).corr(dataset3['nivel_gravedad']==5)\n",
    "\n",
    "print(f\"Coeficiente de correlación: {correlacion}\")"
   ]
  },
  {
   "cell_type": "code",
   "execution_count": null,
   "id": "21327fa5",
   "metadata": {},
   "outputs": [],
   "source": [
    "#Eliminamos 'Part 1-2' ya que su correlación es muy baja y no aporta mucha información. comprobar!!!!!! head tampoco nos deja \n",
    "dataset4 = dataset3.drop('Part 1-2', axis=1, inplace=True)\n",
    "print(dataset4)"
   ]
  },
  {
   "cell_type": "code",
   "execution_count": null,
   "id": "20e6766c",
   "metadata": {},
   "outputs": [],
   "source": [
    "# Calcula la matriz de correlación\n",
    "correlation_matrix = dataset3.corr()\n",
    "\n",
    "# Crea un mapa de correlación utilizando Seaborn\n",
    "plt.figure(figsize=(10, 8))\n",
    "sns.heatmap(correlation_matrix, annot=True, cmap='coolwarm', center=0)\n",
    "plt.title('Mapa de Correlación')\n",
    "plt.show()"
   ]
  },
  {
   "cell_type": "code",
   "execution_count": null,
   "id": "2f893cf5",
   "metadata": {},
   "outputs": [],
   "source": [
    "#Comprobar normalidad\n",
    "import plotly.express as px\n",
    "# Histograma de calificación del productor\n",
    "fig = px.histogram(dataset3, x= \"nivel_gravedad\") \n",
    "fig.show()\n",
    "#Por ahora la dejamos en continua. "
   ]
  },
  {
   "cell_type": "code",
   "execution_count": null,
   "id": "92e87c80",
   "metadata": {},
   "outputs": [],
   "source": [
    "from ydata_profiling import ProfileReport\n",
    "profile = ProfileReport(dataset3, title='Profiling Report')\n",
    "profile"
   ]
  },
  {
   "cell_type": "code",
   "execution_count": null,
   "id": "10a40633",
   "metadata": {},
   "outputs": [],
   "source": []
  }
 ],
 "metadata": {
  "kernelspec": {
   "display_name": "Python 3 (ipykernel)",
   "language": "python",
   "name": "python3"
  },
  "language_info": {
   "codemirror_mode": {
    "name": "ipython",
    "version": 3
   },
   "file_extension": ".py",
   "mimetype": "text/x-python",
   "name": "python",
   "nbconvert_exporter": "python",
   "pygments_lexer": "ipython3",
   "version": "3.9.13"
  }
 },
 "nbformat": 4,
 "nbformat_minor": 5
}
